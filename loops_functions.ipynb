{
  "nbformat": 4,
  "nbformat_minor": 0,
  "metadata": {
    "colab": {
      "provenance": []
    },
    "kernelspec": {
      "name": "python3",
      "display_name": "Python 3"
    },
    "language_info": {
      "name": "python"
    }
  },
  "cells": [
    {
      "cell_type": "code",
      "execution_count": null,
      "metadata": {
        "id": "vcscqhx7nAy8"
      },
      "outputs": [],
      "source": [
        "import random"
      ]
    },
    {
      "cell_type": "code",
      "source": [
        "names = []\n",
        "\n",
        "# Student_1....Student_50\n",
        "for i in range(1,51):\n",
        "  names.append('Student_'+str(i))\n",
        "\n",
        "print(names)"
      ],
      "metadata": {
        "colab": {
          "base_uri": "https://localhost:8080/"
        },
        "id": "vbfk5iaWoXwH",
        "outputId": "aebe1485-f819-4053-9aac-b9897ee6b7bc"
      },
      "execution_count": null,
      "outputs": [
        {
          "output_type": "stream",
          "name": "stdout",
          "text": [
            "['Student_1', 'Student_2', 'Student_3', 'Student_4', 'Student_5', 'Student_6', 'Student_7', 'Student_8', 'Student_9', 'Student_10', 'Student_11', 'Student_12', 'Student_13', 'Student_14', 'Student_15', 'Student_16', 'Student_17', 'Student_18', 'Student_19', 'Student_20', 'Student_21', 'Student_22', 'Student_23', 'Student_24', 'Student_25', 'Student_26', 'Student_27', 'Student_28', 'Student_29', 'Student_30', 'Student_31', 'Student_32', 'Student_33', 'Student_34', 'Student_35', 'Student_36', 'Student_37', 'Student_38', 'Student_39', 'Student_40', 'Student_41', 'Student_42', 'Student_43', 'Student_44', 'Student_45', 'Student_46', 'Student_47', 'Student_48', 'Student_49', 'Student_50']\n"
          ]
        }
      ]
    },
    {
      "cell_type": "code",
      "source": [
        "random.seed(3)\n",
        "\n",
        "birth_year = []\n",
        "\n",
        "for i in range(50):\n",
        "  birth_year.append(random.randint(1988,2002))\n",
        "\n",
        "print(birth_year)"
      ],
      "metadata": {
        "colab": {
          "base_uri": "https://localhost:8080/"
        },
        "id": "WB_Ud2zlpsX8",
        "outputId": "f98906f2-e367-48ff-fe34-4bb932fe5f36"
      },
      "execution_count": null,
      "outputs": [
        {
          "output_type": "stream",
          "name": "stdout",
          "text": [
            "[1991, 1997, 1996, 1990, 1993, 2002, 1997, 1995, 1998, 1997, 1989, 1997, 1988, 2002, 2001, 1995, 1992, 1996, 1991, 1991, 1999, 1995, 1996, 2001, 1996, 1995, 1994, 1998, 2001, 1990, 1991, 1998, 1990, 2001, 2002, 1996, 1994, 1999, 1988, 1998, 2000, 1989, 1990, 2000, 1997, 1988, 1992, 2000, 1988, 2001]\n"
          ]
        }
      ]
    },
    {
      "cell_type": "code",
      "source": [
        "?random.randint"
      ],
      "metadata": {
        "id": "cqFszPjsz_yv"
      },
      "execution_count": null,
      "outputs": []
    },
    {
      "cell_type": "code",
      "source": [
        "#@title\n",
        "b2 = []\n",
        "\n",
        "for i in range(50):\n",
        "  b2.append(random.randrange(1988,2002))\n",
        "print(b2)"
      ],
      "metadata": {
        "colab": {
          "base_uri": "https://localhost:8080/"
        },
        "cellView": "form",
        "collapsed": true,
        "id": "EwAsFkHlsRP5",
        "outputId": "5f9cffaa-02a8-4c42-ca02-ee7a1d5b0d64"
      },
      "execution_count": null,
      "outputs": [
        {
          "output_type": "stream",
          "name": "stdout",
          "text": [
            "[1992, 1995, 1997, 1999, 1994, 1999, 2000, 1994, 1994, 1999, 2000, 1997, 1995, 1990, 1993, 1989, 1988, 1990, 1995, 1991, 1992, 1998, 1994, 2000, 1998, 2001, 1992, 1994, 1996, 2001, 1994, 1997, 1993, 1996, 1997, 1994, 1997, 1991, 1993, 1998, 1988, 2001, 1992, 1997, 1998, 1999, 1990, 1999, 2001, 1993]\n"
          ]
        }
      ]
    },
    {
      "cell_type": "code",
      "source": [
        "student_attitude = []\n",
        "\n",
        "num = 0\n",
        "while num<50:\n",
        "  student_attitude.append(random.choice(['Positive', 'Neutral', 'Negative']))\n",
        "  num += 1\n",
        "  #print(num)\n",
        "\n",
        "print(student_attitude)\n",
        "print(len(student_attitude))\n"
      ],
      "metadata": {
        "colab": {
          "base_uri": "https://localhost:8080/"
        },
        "id": "9tri2o8OuTuR",
        "outputId": "45cad848-fd3c-4fd8-dd14-037fff3c17d8"
      },
      "execution_count": null,
      "outputs": [
        {
          "output_type": "stream",
          "name": "stdout",
          "text": [
            "['Neutral', 'Negative', 'Positive', 'Neutral', 'Positive', 'Positive', 'Neutral', 'Negative', 'Negative', 'Positive', 'Negative', 'Neutral', 'Neutral', 'Positive', 'Positive', 'Positive', 'Negative', 'Positive', 'Neutral', 'Negative', 'Positive', 'Neutral', 'Neutral', 'Negative', 'Positive', 'Negative', 'Neutral', 'Negative', 'Positive', 'Neutral', 'Neutral', 'Negative', 'Neutral', 'Neutral', 'Neutral', 'Negative', 'Neutral', 'Neutral', 'Neutral', 'Negative', 'Neutral', 'Positive', 'Neutral', 'Positive', 'Positive', 'Positive', 'Neutral', 'Negative', 'Negative', 'Neutral']\n",
            "50\n"
          ]
        }
      ]
    },
    {
      "cell_type": "code",
      "source": [
        "# num += 1 == num = num + 1"
      ],
      "metadata": {
        "id": "LrieaC4xw7jv"
      },
      "execution_count": null,
      "outputs": []
    },
    {
      "cell_type": "code",
      "source": [
        "?random.choice"
      ],
      "metadata": {
        "id": "MVj0y4CjwGA9"
      },
      "execution_count": null,
      "outputs": []
    },
    {
      "cell_type": "code",
      "source": [
        "student_score = []\n",
        "# from 0..100\n",
        "\n",
        "for i in range(50):\n",
        "  student_score.append(random.randint(0,100))\n",
        "\n",
        "print(student_score)"
      ],
      "metadata": {
        "colab": {
          "base_uri": "https://localhost:8080/"
        },
        "id": "hsdz2DqOuC4t",
        "outputId": "368b36bf-354e-405f-886d-1b849499df74"
      },
      "execution_count": null,
      "outputs": [
        {
          "output_type": "stream",
          "name": "stdout",
          "text": [
            "[71, 91, 28, 4, 95, 58, 96, 84, 95, 66, 36, 69, 43, 29, 8, 75, 36, 15, 31, 5, 4, 88, 65, 25, 55, 73, 6, 1, 61, 95, 15, 21, 64, 38, 30, 84, 2, 67, 68, 52, 6, 78, 14, 43, 16, 32, 69, 61, 100, 7]\n"
          ]
        }
      ]
    },
    {
      "cell_type": "code",
      "source": [],
      "metadata": {
        "id": "__3zmNDEyNSM"
      },
      "execution_count": null,
      "outputs": []
    }
  ]
}